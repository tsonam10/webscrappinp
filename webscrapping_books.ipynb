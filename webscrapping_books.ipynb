{
 "cells": [
  {
   "cell_type": "markdown",
   "metadata": {},
   "source": [
    "## Webscapping Project\n",
    "\n",
    "The following codes are developed to scrap books either autored to coauthored by H.H The Dalai Lama."
   ]
  },
  {
   "cell_type": "code",
   "execution_count": null,
   "metadata": {},
   "outputs": [],
   "source": [
    "import pandas as pd\n",
    "from bs4 import BeautifulSoup \n",
    "import requests\n",
    "import pickle\n",
    "from tqdm import tqdm\n",
    "from fake_useragent import UserAgent\n",
    "from tqdm import tqdm\n",
    "import time\n",
    "\n",
    "\n",
    "# generate random user agents\n",
    "users = UserAgent()\n",
    "header = {'user-agent':users.random}"
   ]
  },
  {
   "cell_type": "code",
   "execution_count": 12,
   "metadata": {},
   "outputs": [
    {
     "name": "stdout",
     "output_type": "stream",
     "text": [
      "https://www.dalailama.com/books/p1\n",
      "https://www.dalailama.com/books/p2\n",
      "https://www.dalailama.com/books/p3\n",
      "https://www.dalailama.com/books/p4\n",
      "https://www.dalailama.com/books/p5\n"
     ]
    }
   ],
   "source": [
    "book_pages = []\n",
    "for i in range(1,6):\n",
    "    print(f'https://www.dalailama.com/books/p{i}')\n",
    "    book_pages.append(f'https://www.dalailama.com/books/p{i}')"
   ]
  },
  {
   "cell_type": "code",
   "execution_count": 13,
   "metadata": {},
   "outputs": [
    {
     "name": "stderr",
     "output_type": "stream",
     "text": [
      "100%|████████████████████████████████████████████████████████████████████████████████████| 5/5 [00:04<00:00,  1.13it/s]\n"
     ]
    }
   ],
   "source": [
    "data = {\n",
    "    'book_title':[],\n",
    "    'book_author':[],\n",
    "    'publisher':[],\n",
    "}\n",
    "\n",
    "\n",
    "for book in tqdm(book_pages,total=len(book_pages)):\n",
    "    r = requests.get(book,headers=header)\n",
    "    time.sleep(0.2)\n",
    "    soup = BeautifulSoup(r.content, 'html')\n",
    "    res={}\n",
    "    content = soup.find_all('div',{'class':'content'})\n",
    "    for c in content:\n",
    "        data['book_title'].append(c.h5.text.strip())\n",
    "        data['book_author'].append(c.span.text.strip())\n",
    "        data['publisher'].append([x for x in c.find_all('span')[1]])"
   ]
  },
  {
   "cell_type": "code",
   "execution_count": 15,
   "metadata": {},
   "outputs": [
    {
     "data": {
      "text/html": [
       "<div>\n",
       "<style scoped>\n",
       "    .dataframe tbody tr th:only-of-type {\n",
       "        vertical-align: middle;\n",
       "    }\n",
       "\n",
       "    .dataframe tbody tr th {\n",
       "        vertical-align: top;\n",
       "    }\n",
       "\n",
       "    .dataframe thead th {\n",
       "        text-align: right;\n",
       "    }\n",
       "</style>\n",
       "<table border=\"1\" class=\"dataframe\">\n",
       "  <thead>\n",
       "    <tr style=\"text-align: right;\">\n",
       "      <th></th>\n",
       "      <th>book_title</th>\n",
       "      <th>book_author</th>\n",
       "      <th>publisher</th>\n",
       "    </tr>\n",
       "  </thead>\n",
       "  <tbody>\n",
       "    <tr>\n",
       "      <th>0</th>\n",
       "      <td>The Little Book of Encouragement</td>\n",
       "      <td>H.H. the Dalai Lama, edited by Renuka Singh</td>\n",
       "      <td>[ Penguin Viking, 2021]</td>\n",
       "    </tr>\n",
       "    <tr>\n",
       "      <th>1</th>\n",
       "      <td>Our Only Home - A Climate Appeal to the World</td>\n",
       "      <td>H.H. the Dalai Lama and Franz Alt</td>\n",
       "      <td>[Hanover Press, 2020]</td>\n",
       "    </tr>\n",
       "    <tr>\n",
       "      <th>2</th>\n",
       "      <td>Science and Philosophy in the Indian Buddhist ...</td>\n",
       "      <td>Conceived and Introduced by H.H. the Dalai Lam...</td>\n",
       "      <td>[Published By Wisdom Publications, 2020]</td>\n",
       "    </tr>\n",
       "    <tr>\n",
       "      <th>3</th>\n",
       "      <td>Inner World</td>\n",
       "      <td>H.H. the Dalai Lama</td>\n",
       "      <td>[HitCo Entertainment and Khandro Music, 2020]</td>\n",
       "    </tr>\n",
       "    <tr>\n",
       "      <th>4</th>\n",
       "      <td>The Seed of Compassion: Lessons from the Life ...</td>\n",
       "      <td>H.H. the Dalai Lama, Bao Luu (Illustrator)</td>\n",
       "      <td>[Kokila, 2020]</td>\n",
       "    </tr>\n",
       "  </tbody>\n",
       "</table>\n",
       "</div>"
      ],
      "text/plain": [
       "                                          book_title  \\\n",
       "0                   The Little Book of Encouragement   \n",
       "1      Our Only Home - A Climate Appeal to the World   \n",
       "2  Science and Philosophy in the Indian Buddhist ...   \n",
       "3                                        Inner World   \n",
       "4  The Seed of Compassion: Lessons from the Life ...   \n",
       "\n",
       "                                         book_author  \\\n",
       "0        H.H. the Dalai Lama, edited by Renuka Singh   \n",
       "1                  H.H. the Dalai Lama and Franz Alt   \n",
       "2  Conceived and Introduced by H.H. the Dalai Lam...   \n",
       "3                                H.H. the Dalai Lama   \n",
       "4         H.H. the Dalai Lama, Bao Luu (Illustrator)   \n",
       "\n",
       "                                       publisher  \n",
       "0                        [ Penguin Viking, 2021]  \n",
       "1                          [Hanover Press, 2020]  \n",
       "2       [Published By Wisdom Publications, 2020]  \n",
       "3  [HitCo Entertainment and Khandro Music, 2020]  \n",
       "4                                 [Kokila, 2020]  "
      ]
     },
     "execution_count": 15,
     "metadata": {},
     "output_type": "execute_result"
    }
   ],
   "source": [
    "book =pd.DataFrame(data)\n",
    "book.head()"
   ]
  },
  {
   "cell_type": "code",
   "execution_count": 16,
   "metadata": {},
   "outputs": [],
   "source": [
    "book.to_csv('books_dalai_lama.csv',index=False)"
   ]
  },
  {
   "cell_type": "code",
   "execution_count": null,
   "metadata": {},
   "outputs": [],
   "source": []
  }
 ],
 "metadata": {
  "kernelspec": {
   "display_name": "Python 3",
   "language": "python",
   "name": "python3"
  },
  "language_info": {
   "codemirror_mode": {
    "name": "ipython",
    "version": 3
   },
   "file_extension": ".py",
   "mimetype": "text/x-python",
   "name": "python",
   "nbconvert_exporter": "python",
   "pygments_lexer": "ipython3",
   "version": "3.8.5"
  }
 },
 "nbformat": 4,
 "nbformat_minor": 4
}
